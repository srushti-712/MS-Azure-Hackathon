{
 "cells": [
  {
   "cell_type": "markdown",
   "id": "23f3087e",
   "metadata": {},
   "source": [
    "# Heart disease prediction based on Cleveland Dataset using Designers"
   ]
  },
  {
   "cell_type": "code",
   "execution_count": 7,
   "id": "0b5d599f",
   "metadata": {},
   "outputs": [],
   "source": [
    "import urllib.request\n",
    "import json\n",
    "import os\n",
    "import ssl"
   ]
  },
  {
   "cell_type": "code",
   "execution_count": 8,
   "id": "ca2e1423",
   "metadata": {},
   "outputs": [],
   "source": [
    "url = 'http://092489b2-65ac-4605-8095-107b6e552555.eastus.azurecontainer.io/score'\n",
    "api_key = 'EgPrV64CxPrKeKZHrivL9DwGdapDbesz'"
   ]
  },
  {
   "cell_type": "code",
   "execution_count": 9,
   "id": "54d330e2",
   "metadata": {},
   "outputs": [
    {
     "name": "stdout",
     "output_type": "stream",
     "text": [
      "Age: 1.8433881093253095\n",
      "Heart Disease Prediction: 1.0\n",
      "Probability: 0.7731624085126344\n"
     ]
    }
   ],
   "source": [
    "def allowSelfSignedHttps(allowed):\n",
    "    # bypass the server certificate verification on client side\n",
    "    if allowed and not os.environ.get('PYTHONHTTPSVERIFY', '') and getattr(ssl, '_create_unverified_context', None):\n",
    "        ssl._create_default_https_context = ssl._create_unverified_context\n",
    "\n",
    "allowSelfSignedHttps(True) # this line is needed if you use self-signed certificate in your scoring service.\n",
    "\n",
    "# Request data goes here\n",
    "data = {\n",
    "    \"Inputs\": {\n",
    "        \"WebServiceInput0\":\n",
    "        [\n",
    "            {\n",
    "                \"age\": \"71\",\n",
    "                \"sex\": \"0\",\n",
    "                \"cp\": \"2\",\n",
    "                \"trestbps\": \"110\",\n",
    "                \"chol\": \"265\",\n",
    "                \"fbs\": \"1\",\n",
    "                \"restecg\": \"0\",\n",
    "                \"thalach\": \"130\",\n",
    "                \"exang\": \"0\",\n",
    "                \"oldpeak\": \"0\",\n",
    "                \"slope\": \"2\",\n",
    "                \"ca\": \"1\",\n",
    "                \"thal\": \"2\"\n",
    "            },\n",
    "        ]\n",
    "    },\n",
    "    \"GlobalParameters\": {\n",
    "    }\n",
    "}\n",
    "\n",
    "body = str.encode(json.dumps(data))\n",
    "\n",
    " # Replace this with the API key for the web service\n",
    "headers = {'Content-Type':'application/json', 'Authorization':('Bearer '+ api_key)}\n",
    "\n",
    "req = urllib.request.Request(url, body, headers)\n",
    "\n",
    "try:\n",
    "    response = urllib.request.urlopen(req)\n",
    "    result = response.read()\n",
    "    json_result = json.loads(result)\n",
    "    output = json_result[\"Results\"][\"WebServiceOutput0\"][0]\n",
    "    print(f'Age: {output[\"age\"]}\\nHeart Disease Prediction: {output[\"HeartDiseasePrediction\"]}\\nProbability: {output[\"Probability\"]}')\n",
    "    #print(result)\n",
    "    \n",
    "    \n",
    "except urllib.error.HTTPError as error:\n",
    "    print(\"The request failed with status code: \" + str(error.code))\n",
    "\n",
    "    # Print the headers - they include the requert ID and the timestamp, which are useful for debugging the failure\n",
    "    print(error.info())\n",
    "    print(json.loads(error.read().decode(\"utf8\", 'ignore')))\n"
   ]
  }
 ],
 "metadata": {
  "kernelspec": {
   "display_name": "Python 3",
   "language": "python",
   "name": "python3"
  },
  "language_info": {
   "codemirror_mode": {
    "name": "ipython",
    "version": 3
   },
   "file_extension": ".py",
   "mimetype": "text/x-python",
   "name": "python",
   "nbconvert_exporter": "python",
   "pygments_lexer": "ipython3",
   "version": "3.9.5"
  }
 },
 "nbformat": 4,
 "nbformat_minor": 5
}
